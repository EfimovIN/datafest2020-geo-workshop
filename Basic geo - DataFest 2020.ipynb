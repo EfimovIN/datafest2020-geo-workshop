{
 "cells": [
  {
   "cell_type": "code",
   "execution_count": 350,
   "metadata": {},
   "outputs": [],
   "source": [
    "import warnings\n",
    "warnings.filterwarnings('ignore')\n",
    "\n",
    "import requests\n",
    "\n",
    "import pandas as pd\n",
    "import geopandas as gpd\n",
    "import numpy as np\n",
    "import seaborn as sns\n",
    "import matplotlib.pyplot as plt\n",
    "\n",
    "from pysal.viz import mapclassify\n",
    "from tqdm import tqdm_notebook as tqdm\n",
    "\n",
    "%matplotlib inline"
   ]
  },
  {
   "cell_type": "markdown",
   "metadata": {},
   "source": [
    "### Geospatial data analysis\n",
    "\n",
    "![](https://v3.urbica.co/static/media/image-3@2x.58bbd26c.png)"
   ]
  },
  {
   "cell_type": "markdown",
   "metadata": {},
   "source": [
    "**Geospatial data is data about objects, events, or phenomena that have a location on the surface of the earth.**"
   ]
  },
  {
   "cell_type": "code",
   "execution_count": 275,
   "metadata": {},
   "outputs": [],
   "source": [
    "#twitter pic"
   ]
  },
  {
   "cell_type": "markdown",
   "metadata": {},
   "source": [
    "- Vector geodata formats:\n",
    "    - **.geojson**, .shp, .kml, .gpkg, .gpx, etc.\n",
    "    - .txt, .csv, .xls, .json\n",
    "- Rester geodata formats:\n",
    "    - .geotiff, .tiff, .jpeg, .asc, etc. "
   ]
  },
  {
   "cell_type": "markdown",
   "metadata": {},
   "source": [
    "![](http://msp.naturalcapitalproject.org/msp_concierge_master/img/data_formats.png)"
   ]
  },
  {
   "cell_type": "markdown",
   "metadata": {},
   "source": [
    "Attributes + Coordinate information"
   ]
  },
  {
   "cell_type": "code",
   "execution_count": 276,
   "metadata": {},
   "outputs": [],
   "source": [
    "## geojson pic"
   ]
  },
  {
   "cell_type": "markdown",
   "metadata": {},
   "source": [
    "### Geometric Objects - [shapely](https://shapely.readthedocs.io/en/latest/manual.html#geometric-objects)"
   ]
  },
  {
   "cell_type": "code",
   "execution_count": 277,
   "metadata": {},
   "outputs": [],
   "source": [
    "from shapely.geometry import Point, LineString, Polygon, MultiPoint"
   ]
  },
  {
   "cell_type": "code",
   "execution_count": 283,
   "metadata": {},
   "outputs": [
    {
     "data": {
      "image/svg+xml": [
       "<svg xmlns=\"http://www.w3.org/2000/svg\" xmlns:xlink=\"http://www.w3.org/1999/xlink\" width=\"100.0\" height=\"100.0\" viewBox=\"-1.0 -1.0 2.0 2.0\" preserveAspectRatio=\"xMinYMin meet\"><g transform=\"matrix(1,0,0,-1,0,0.0)\"><circle cx=\"0.0\" cy=\"0.0\" r=\"0.06\" stroke=\"#555555\" stroke-width=\"0.02\" fill=\"#66cc99\" opacity=\"0.6\" /></g></svg>"
      ],
      "text/plain": [
       "<shapely.geometry.point.Point at 0x11cb70f28>"
      ]
     },
     "execution_count": 283,
     "metadata": {},
     "output_type": "execute_result"
    }
   ],
   "source": [
    "point_a = Point(0,0)\n",
    "point_a"
   ]
  },
  {
   "cell_type": "code",
   "execution_count": 286,
   "metadata": {},
   "outputs": [],
   "source": [
    "point_b = Point(1,1)"
   ]
  },
  {
   "cell_type": "code",
   "execution_count": 287,
   "metadata": {},
   "outputs": [
    {
     "data": {
      "text/plain": [
       "'POINT (0 0)'"
      ]
     },
     "execution_count": 287,
     "metadata": {},
     "output_type": "execute_result"
    }
   ],
   "source": [
    "point_a.wkt"
   ]
  },
  {
   "cell_type": "code",
   "execution_count": 293,
   "metadata": {},
   "outputs": [
    {
     "data": {
      "text/plain": [
       "1.4142135623730951"
      ]
     },
     "execution_count": 293,
     "metadata": {},
     "output_type": "execute_result"
    }
   ],
   "source": [
    "point_a.distance(point_b)"
   ]
  },
  {
   "cell_type": "code",
   "execution_count": 297,
   "metadata": {},
   "outputs": [
    {
     "data": {
      "image/svg+xml": [
       "<svg xmlns=\"http://www.w3.org/2000/svg\" xmlns:xlink=\"http://www.w3.org/1999/xlink\" width=\"100.0\" height=\"100.0\" viewBox=\"-0.04 -0.04 1.08 1.08\" preserveAspectRatio=\"xMinYMin meet\"><g transform=\"matrix(1,0,0,-1,0,1.0)\"><g><circle cx=\"0.0\" cy=\"0.0\" r=\"0.0324\" stroke=\"#555555\" stroke-width=\"0.0108\" fill=\"#66cc99\" opacity=\"0.6\" /><circle cx=\"1.0\" cy=\"1.0\" r=\"0.0324\" stroke=\"#555555\" stroke-width=\"0.0108\" fill=\"#66cc99\" opacity=\"0.6\" /></g></g></svg>"
      ],
      "text/plain": [
       "<shapely.geometry.multipoint.MultiPoint at 0x11cbe14a8>"
      ]
     },
     "execution_count": 297,
     "metadata": {},
     "output_type": "execute_result"
    }
   ],
   "source": [
    "MultiPoint([point_a, point_b])"
   ]
  },
  {
   "cell_type": "code",
   "execution_count": 63,
   "metadata": {},
   "outputs": [
    {
     "data": {
      "image/svg+xml": [
       "<svg xmlns=\"http://www.w3.org/2000/svg\" xmlns:xlink=\"http://www.w3.org/1999/xlink\" width=\"100.0\" height=\"100.0\" viewBox=\"-0.04 -0.04 1.08 1.08\" preserveAspectRatio=\"xMinYMin meet\"><g transform=\"matrix(1,0,0,-1,0,1.0)\"><polyline fill=\"none\" stroke=\"#66cc99\" stroke-width=\"0.0216\" points=\"0.0,0.0 1.0,1.0\" opacity=\"0.8\" /></g></svg>"
      ],
      "text/plain": [
       "<shapely.geometry.linestring.LineString at 0x117e8cbe0>"
      ]
     },
     "execution_count": 63,
     "metadata": {},
     "output_type": "execute_result"
    }
   ],
   "source": [
    "LineString([point_a,point_b])"
   ]
  },
  {
   "cell_type": "code",
   "execution_count": 64,
   "metadata": {},
   "outputs": [
    {
     "data": {
      "image/svg+xml": [
       "<svg xmlns=\"http://www.w3.org/2000/svg\" xmlns:xlink=\"http://www.w3.org/1999/xlink\" width=\"100.0\" height=\"100.0\" viewBox=\"-0.04 -0.04 1.08 1.08\" preserveAspectRatio=\"xMinYMin meet\"><g transform=\"matrix(1,0,0,-1,0,1.0)\"><polyline fill=\"none\" stroke=\"#66cc99\" stroke-width=\"0.0216\" points=\"0.0,0.0 1.0,1.0\" opacity=\"0.8\" /></g></svg>"
      ],
      "text/plain": [
       "<shapely.geometry.linestring.LineString at 0x117e8c198>"
      ]
     },
     "execution_count": 64,
     "metadata": {},
     "output_type": "execute_result"
    }
   ],
   "source": [
    "LineString([(0,0),(1,1)])"
   ]
  },
  {
   "cell_type": "code",
   "execution_count": 65,
   "metadata": {},
   "outputs": [
    {
     "data": {
      "image/svg+xml": [
       "<svg xmlns=\"http://www.w3.org/2000/svg\" xmlns:xlink=\"http://www.w3.org/1999/xlink\" width=\"100.0\" height=\"100.0\" viewBox=\"-0.04 -0.04 1.08 1.08\" preserveAspectRatio=\"xMinYMin meet\"><g transform=\"matrix(1,0,0,-1,0,1.0)\"><path fill-rule=\"evenodd\" fill=\"#66cc99\" stroke=\"#555555\" stroke-width=\"0.0216\" opacity=\"0.6\" d=\"M 0.0,0.0 L 1.0,1.0 L 0.0,1.0 L 0.0,0.0 z\" /></g></svg>"
      ],
      "text/plain": [
       "<shapely.geometry.polygon.Polygon at 0x117e8cf60>"
      ]
     },
     "execution_count": 65,
     "metadata": {},
     "output_type": "execute_result"
    }
   ],
   "source": [
    "Polygon([(0,0),(1,1),(0,1)])"
   ]
  },
  {
   "cell_type": "code",
   "execution_count": 300,
   "metadata": {},
   "outputs": [],
   "source": [
    "outer = Polygon(((0,0),(10,0),(10,10),(0,10),(0,0)))\n",
    "inner = Polygon(((4,4),(4,6),(6,6),(6,4),(4,4)))\n",
    "inner2 = Polygon(((2,2),(2,3),(3,3),(3,2),(2,2)))"
   ]
  },
  {
   "cell_type": "code",
   "execution_count": 301,
   "metadata": {},
   "outputs": [
    {
     "data": {
      "image/svg+xml": [
       "<svg xmlns=\"http://www.w3.org/2000/svg\" xmlns:xlink=\"http://www.w3.org/1999/xlink\" width=\"100.0\" height=\"100.0\" viewBox=\"-0.4 -0.4 10.8 10.8\" preserveAspectRatio=\"xMinYMin meet\"><g transform=\"matrix(1,0,0,-1,0,10.0)\"><path fill-rule=\"evenodd\" fill=\"#66cc99\" stroke=\"#555555\" stroke-width=\"0.21600000000000003\" opacity=\"0.6\" d=\"M 0.0,0.0 L 10.0,0.0 L 10.0,10.0 L 0.0,10.0 L 0.0,0.0 z\" /></g></svg>"
      ],
      "text/plain": [
       "<shapely.geometry.polygon.Polygon at 0x11cc06c50>"
      ]
     },
     "execution_count": 301,
     "metadata": {},
     "output_type": "execute_result"
    }
   ],
   "source": [
    "outer"
   ]
  },
  {
   "cell_type": "code",
   "execution_count": 307,
   "metadata": {},
   "outputs": [
    {
     "data": {
      "image/svg+xml": [
       "<svg xmlns=\"http://www.w3.org/2000/svg\" xmlns:xlink=\"http://www.w3.org/1999/xlink\" width=\"100.0\" height=\"100.0\" viewBox=\"3.92 3.92 2.16 2.16\" preserveAspectRatio=\"xMinYMin meet\"><g transform=\"matrix(1,0,0,-1,0,10.0)\"><path fill-rule=\"evenodd\" fill=\"#66cc99\" stroke=\"#555555\" stroke-width=\"0.0432\" opacity=\"0.6\" d=\"M 4.0,4.0 L 4.0,6.0 L 6.0,6.0 L 6.0,4.0 L 4.0,4.0 z\" /></g></svg>"
      ],
      "text/plain": [
       "<shapely.geometry.polygon.Polygon at 0x11cc06c18>"
      ]
     },
     "execution_count": 307,
     "metadata": {},
     "output_type": "execute_result"
    }
   ],
   "source": [
    "inner"
   ]
  },
  {
   "cell_type": "code",
   "execution_count": 304,
   "metadata": {},
   "outputs": [
    {
     "data": {
      "image/svg+xml": [
       "<svg xmlns=\"http://www.w3.org/2000/svg\" xmlns:xlink=\"http://www.w3.org/1999/xlink\" width=\"100.0\" height=\"100.0\" viewBox=\"-0.4 -0.4 10.8 10.8\" preserveAspectRatio=\"xMinYMin meet\"><g transform=\"matrix(1,0,0,-1,0,10.0)\"><path fill-rule=\"evenodd\" fill=\"#66cc99\" stroke=\"#555555\" stroke-width=\"0.21600000000000003\" opacity=\"0.6\" d=\"M 0.0,0.0 L 10.0,0.0 L 10.0,10.0 L 0.0,10.0 L 0.0,0.0 z M 4.0,4.0 L 4.0,6.0 L 6.0,6.0 L 6.0,4.0 L 4.0,4.0 z M 2.0,2.0 L 2.0,3.0 L 3.0,3.0 L 3.0,2.0 L 2.0,2.0 z\" /></g></svg>"
      ],
      "text/plain": [
       "<shapely.geometry.polygon.Polygon at 0x11cc06198>"
      ]
     },
     "execution_count": 304,
     "metadata": {},
     "output_type": "execute_result"
    }
   ],
   "source": [
    "p = Polygon(outer.exterior.coords, [inner.exterior.coords,\n",
    "                                    inner2.exterior.coords])\n",
    "p"
   ]
  },
  {
   "cell_type": "code",
   "execution_count": 305,
   "metadata": {},
   "outputs": [
    {
     "name": "stdout",
     "output_type": "stream",
     "text": [
      "POLYGON ((0 0, 10 0, 10 10, 0 10, 0 0), (4 4, 4 6, 6 6, 6 4, 4 4), (2 2, 2 3, 3 3, 3 2, 2 2))\n"
     ]
    }
   ],
   "source": [
    "print(p)"
   ]
  },
  {
   "cell_type": "markdown",
   "metadata": {},
   "source": [
    "### Geopandas"
   ]
  },
  {
   "cell_type": "markdown",
   "metadata": {},
   "source": [
    "[NYC Open Data Portal](https://opendata.cityofnewyork.us/)"
   ]
  },
  {
   "cell_type": "code",
   "execution_count": 40,
   "metadata": {},
   "outputs": [
    {
     "data": {
      "text/html": [
       "<div>\n",
       "<style scoped>\n",
       "    .dataframe tbody tr th:only-of-type {\n",
       "        vertical-align: middle;\n",
       "    }\n",
       "\n",
       "    .dataframe tbody tr th {\n",
       "        vertical-align: top;\n",
       "    }\n",
       "\n",
       "    .dataframe thead th {\n",
       "        text-align: right;\n",
       "    }\n",
       "</style>\n",
       "<table border=\"1\" class=\"dataframe\">\n",
       "  <thead>\n",
       "    <tr style=\"text-align: right;\">\n",
       "      <th></th>\n",
       "      <th>name</th>\n",
       "      <th>cartodb_id</th>\n",
       "      <th>created_at</th>\n",
       "      <th>updated_at</th>\n",
       "      <th>geometry</th>\n",
       "    </tr>\n",
       "  </thead>\n",
       "  <tbody>\n",
       "    <tr>\n",
       "      <th>0</th>\n",
       "      <td>Staten Island</td>\n",
       "      <td>1</td>\n",
       "      <td>2013-03-09T02:42:03</td>\n",
       "      <td>2013-03-09T02:42:03</td>\n",
       "      <td>(POLYGON ((-74.05050799999999 40.566422, -74.0...</td>\n",
       "    </tr>\n",
       "    <tr>\n",
       "      <th>1</th>\n",
       "      <td>Queens</td>\n",
       "      <td>2</td>\n",
       "      <td>2013-03-09T02:42:03</td>\n",
       "      <td>2013-03-09T02:42:03</td>\n",
       "      <td>(POLYGON ((-73.83668299999999 40.594947, -73.8...</td>\n",
       "    </tr>\n",
       "    <tr>\n",
       "      <th>2</th>\n",
       "      <td>Brooklyn</td>\n",
       "      <td>3</td>\n",
       "      <td>2013-03-09T02:42:03</td>\n",
       "      <td>2013-03-09T02:42:03</td>\n",
       "      <td>(POLYGON ((-73.86706100000001 40.582088, -73.8...</td>\n",
       "    </tr>\n",
       "    <tr>\n",
       "      <th>3</th>\n",
       "      <td>Manhattan</td>\n",
       "      <td>4</td>\n",
       "      <td>2013-03-09T02:42:03</td>\n",
       "      <td>2013-03-09T02:42:03</td>\n",
       "      <td>(POLYGON ((-74.01092800000001 40.684491, -74.0...</td>\n",
       "    </tr>\n",
       "    <tr>\n",
       "      <th>4</th>\n",
       "      <td>Bronx</td>\n",
       "      <td>5</td>\n",
       "      <td>2013-03-09T02:42:03</td>\n",
       "      <td>2013-03-09T02:42:03</td>\n",
       "      <td>(POLYGON ((-73.896809 40.795808, -73.896939 40...</td>\n",
       "    </tr>\n",
       "  </tbody>\n",
       "</table>\n",
       "</div>"
      ],
      "text/plain": [
       "            name  cartodb_id           created_at           updated_at  \\\n",
       "0  Staten Island           1  2013-03-09T02:42:03  2013-03-09T02:42:03   \n",
       "1         Queens           2  2013-03-09T02:42:03  2013-03-09T02:42:03   \n",
       "2       Brooklyn           3  2013-03-09T02:42:03  2013-03-09T02:42:03   \n",
       "3      Manhattan           4  2013-03-09T02:42:03  2013-03-09T02:42:03   \n",
       "4          Bronx           5  2013-03-09T02:42:03  2013-03-09T02:42:03   \n",
       "\n",
       "                                            geometry  \n",
       "0  (POLYGON ((-74.05050799999999 40.566422, -74.0...  \n",
       "1  (POLYGON ((-73.83668299999999 40.594947, -73.8...  \n",
       "2  (POLYGON ((-73.86706100000001 40.582088, -73.8...  \n",
       "3  (POLYGON ((-74.01092800000001 40.684491, -74.0...  \n",
       "4  (POLYGON ((-73.896809 40.795808, -73.896939 40...  "
      ]
     },
     "execution_count": 40,
     "metadata": {},
     "output_type": "execute_result"
    }
   ],
   "source": [
    "nyc_boroughs = gpd.read_file('data/new-york-city-boroughs.geojson')\n",
    "nyc_boroughs"
   ]
  },
  {
   "cell_type": "code",
   "execution_count": 73,
   "metadata": {},
   "outputs": [
    {
     "name": "stdout",
     "output_type": "stream",
     "text": [
      "<class 'geopandas.geodataframe.GeoDataFrame'>\n",
      "RangeIndex: 5 entries, 0 to 4\n",
      "Data columns (total 5 columns):\n",
      "name          5 non-null object\n",
      "cartodb_id    5 non-null int64\n",
      "created_at    5 non-null object\n",
      "updated_at    5 non-null object\n",
      "geometry      5 non-null object\n",
      "dtypes: int64(1), object(4)\n",
      "memory usage: 280.0+ bytes\n"
     ]
    }
   ],
   "source": [
    "nyc_boroughs.info()"
   ]
  },
  {
   "cell_type": "code",
   "execution_count": 328,
   "metadata": {},
   "outputs": [
    {
     "data": {
      "text/plain": [
       "shapely.geometry.multipolygon.MultiPolygon"
      ]
     },
     "execution_count": 328,
     "metadata": {},
     "output_type": "execute_result"
    }
   ],
   "source": [
    "type(nyc_boroughs.geometry[0])"
   ]
  },
  {
   "cell_type": "code",
   "execution_count": 74,
   "metadata": {},
   "outputs": [
    {
     "data": {
      "image/png": "[encoded data removed]",
      "text/plain": [
       "<Figure size 432x288 with 1 Axes>"
      ]
     },
     "metadata": {},
     "output_type": "display_data"
    }
   ],
   "source": [
    "nyc_boroughs.plot();"
   ]
  },
  {
   "cell_type": "code",
   "execution_count": 342,
   "metadata": {},
   "outputs": [
    {
     "data": {
      "image/png": "[encoded data removed]",
      "text/plain": [
       "<Figure size 432x288 with 1 Axes>"
      ]
     },
     "metadata": {},
     "output_type": "display_data"
    }
   ],
   "source": [
    "manhattan = nyc_boroughs[nyc_boroughs['name'] == 'Manhattan'].reset_index(drop=True)\n",
    "manhattan.plot();"
   ]
  },
  {
   "cell_type": "code",
   "execution_count": 343,
   "metadata": {},
   "outputs": [
    {
     "data": {
      "image/png": "[encoded data removed]",
      "text/plain": [
       "<Figure size 720x576 with 1 Axes>"
      ]
     },
     "metadata": {},
     "output_type": "display_data"
    }
   ],
   "source": [
    "ax = manhattan.plot(figsize=(10, 8))\n",
    "manhattan.centroid.plot(ax=ax, color='purple')\n",
    "manhattan.representative_point().plot(ax=ax, color='red');"
   ]
  },
  {
   "cell_type": "code",
   "execution_count": 344,
   "metadata": {},
   "outputs": [
    {
     "data": {
      "image/png": "[encoded data removed]",
      "text/plain": [
       "<Figure size 720x576 with 1 Axes>"
      ]
     },
     "metadata": {},
     "output_type": "display_data"
    }
   ],
   "source": [
    "ax = manhattan.convex_hull.plot(color='purple', figsize=(10, 8))\n",
    "manhattan.plot(ax=ax);"
   ]
  },
  {
   "cell_type": "code",
   "execution_count": 345,
   "metadata": {},
   "outputs": [
    {
     "data": {
      "image/png": "[encoded data removed]",
      "text/plain": [
       "<Figure size 720x576 with 1 Axes>"
      ]
     },
     "metadata": {},
     "output_type": "display_data"
    }
   ],
   "source": [
    "ax = manhattan.envelope.plot(color='purple', figsize=(10, 8))\n",
    "manhattan.plot(ax=ax);"
   ]
  },
  {
   "cell_type": "code",
   "execution_count": 346,
   "metadata": {},
   "outputs": [],
   "source": [
    "manhattan = manhattan.to_crs(epsg=32618)"
   ]
  },
  {
   "cell_type": "code",
   "execution_count": 347,
   "metadata": {},
   "outputs": [
    {
     "data": {
      "image/png": "[encoded data removed]",
      "text/plain": [
       "<Figure size 720x576 with 1 Axes>"
      ]
     },
     "metadata": {},
     "output_type": "display_data"
    }
   ],
   "source": [
    "ax = manhattan.buffer(1500).plot(color='purple',  figsize=(10, 8))\n",
    "ax = manhattan.plot(ax=ax)"
   ]
  },
  {
   "cell_type": "markdown",
   "metadata": {},
   "source": [
    "### OSM Data, Overpass API"
   ]
  },
  {
   "cell_type": "code",
   "execution_count": null,
   "metadata": {},
   "outputs": [],
   "source": [
    "### OSM Tag System"
   ]
  },
  {
   "cell_type": "markdown",
   "metadata": {},
   "source": [
    "https://wiki.openstreetmap.org/wiki/Key:name"
   ]
  },
  {
   "cell_type": "markdown",
   "metadata": {},
   "source": [
    "![Image of Yaktocat](https://cdn-images-1.medium.com/max/1600/1*naEo03Ssn3-69xzLZIpZPQ.png)"
   ]
  },
  {
   "cell_type": "code",
   "execution_count": 349,
   "metadata": {},
   "outputs": [
    {
     "data": {
      "text/plain": [
       "{\"features\": [{\"geometry\": {\"coordinates\": [-73.9849958, 40.7481628], \"type\": \"Point\"}, \"id\": 2709306673, \"properties\": {\"addr:housenumber\": \"350\", \"addr:postcode\": \"10118\", \"addr:street\": \"5th Avenue\", \"name\": \"Empire State Building\", \"name:ko\": \"\\uc5e0\\ud30c\\uc774\\uc5b4 \\uc2a4\\ud14c\\uc774\\ud2b8 \\ube4c\\ub529\", \"opening_hours\": \"Mo-Su 08:00-02:00\", \"phone\": \"2127363100\", \"tourism\": \"attraction\", \"website\": \"https://www.esbnyc.com/\", \"wheelchair\": \"yes\"}, \"type\": \"Feature\"}, {\"geometry\": {\"coordinates\": [16.7553574, 52.2957335], \"type\": \"Point\"}, \"id\": 5552887205, \"properties\": {\"name\": \"Empire State Building\", \"tourism\": \"artwork\"}, \"type\": \"Feature\"}], \"type\": \"FeatureCollection\"}"
      ]
     },
     "execution_count": 349,
     "metadata": {},
     "output_type": "execute_result"
    }
   ],
   "source": [
    "import overpass\n",
    "\n",
    "api = overpass.API(endpoint=\"https://overpass.kumi.systems/api/interpreter\")\n",
    "response = api.get('node[\"name\"=\"Empire State Building\"]')\n",
    "response"
   ]
  },
  {
   "cell_type": "code",
   "execution_count": 351,
   "metadata": {},
   "outputs": [
    {
     "data": {
      "image/png": "[encoded data removed]",
      "text/plain": [
       "<Figure size 432x288 with 1 Axes>"
      ]
     },
     "metadata": {},
     "output_type": "display_data"
    }
   ],
   "source": [
    "empire_state_building = gpd.GeoDataFrame(\n",
    "    geometry=[Point(response[0]['geometry']['coordinates'])],\n",
    "    crs={'init': 'epsg:4326'})\n",
    "empire_state_building.plot();"
   ]
  },
  {
   "cell_type": "code",
   "execution_count": 352,
   "metadata": {},
   "outputs": [
    {
     "data": {
      "image/png": "[encoded data removed]",
      "text/plain": [
       "<Figure size 432x288 with 1 Axes>"
      ]
     },
     "metadata": {},
     "output_type": "display_data"
    }
   ],
   "source": [
    "response = api.get('node[\"name\"=\"Tour Eiffel\"]')\n",
    "eiffel_tower = gpd.GeoDataFrame(geometry=[Point(response[0]['geometry']['coordinates'])], \n",
    "                                         crs={'init': 'epsg:4326'})\n",
    "eiffel_tower.plot();"
   ]
  },
  {
   "cell_type": "code",
   "execution_count": 353,
   "metadata": {},
   "outputs": [
    {
     "data": {
      "image/png": "[encoded data removed]",
      "text/plain": [
       "<Figure size 432x288 with 1 Axes>"
      ]
     },
     "metadata": {},
     "output_type": "display_data"
    }
   ],
   "source": [
    "response = api.get('node[\"name\"=\"Top of the Rock\"]')\n",
    "top_of_the_rock = gpd.GeoDataFrame(geometry=[Point(response[0]['geometry']['coordinates'])], \n",
    "                                         crs={'init': 'epsg:4326'})\n",
    "top_of_the_rock.plot();"
   ]
  },
  {
   "cell_type": "code",
   "execution_count": null,
   "metadata": {},
   "outputs": [],
   "source": [
    "### yandex distance"
   ]
  },
  {
   "cell_type": "code",
   "execution_count": null,
   "metadata": {},
   "outputs": [],
   "source": [
    "#5845"
   ]
  },
  {
   "cell_type": "code",
   "execution_count": 403,
   "metadata": {},
   "outputs": [
    {
     "data": {
      "text/plain": [
       "76.71094537066433"
      ]
     },
     "execution_count": 403,
     "metadata": {},
     "output_type": "execute_result"
    }
   ],
   "source": [
    "empire_state_building.distance(eiffel_tower)[0]"
   ]
  },
  {
   "cell_type": "code",
   "execution_count": 402,
   "metadata": {},
   "outputs": [
    {
     "data": {
      "text/plain": [
       "8586.866"
      ]
     },
     "execution_count": 402,
     "metadata": {},
     "output_type": "execute_result"
    }
   ],
   "source": [
    "empire_state_building.to_crs(epsg=3857).distance(eiffel_tower.to_crs(epsg=3857)).round()[0] / 1000"
   ]
  },
  {
   "cell_type": "code",
   "execution_count": 377,
   "metadata": {},
   "outputs": [],
   "source": [
    "from geopy import distance\n",
    "\n",
    "empire_state_coords = empire_state_building.geometry[0].y,empire_state_building.geometry[0].x\n",
    "eiffel_coords = eiffel_tower.geometry[0].y,eiffel_tower.geometry[0].x\n",
    "rock_coords = top_of_the_rock.geometry[0].y,top_of_the_rock.geometry[0].x"
   ]
  },
  {
   "cell_type": "code",
   "execution_count": 400,
   "metadata": {},
   "outputs": [
    {
     "data": {
      "text/plain": [
       "5829.51090987715"
      ]
     },
     "execution_count": 400,
     "metadata": {},
     "output_type": "execute_result"
    }
   ],
   "source": [
    "distance.great_circle(empire_state_coords, eiffel_coords).km"
   ]
  },
  {
   "cell_type": "code",
   "execution_count": 401,
   "metadata": {},
   "outputs": [
    {
     "data": {
      "text/plain": [
       "5845.186243453013"
      ]
     },
     "execution_count": 401,
     "metadata": {},
     "output_type": "execute_result"
    }
   ],
   "source": [
    "distance.geodesic(empire_state_coords, eiffel_coords).km"
   ]
  },
  {
   "cell_type": "code",
   "execution_count": 399,
   "metadata": {},
   "outputs": [
    {
     "name": "stdout",
     "output_type": "stream",
     "text": [
      "1.715 - 3857 Euclidean distance\n",
      "1.2977 - Great Circle distance\n",
      "1.2966 - WGS84  distance\n"
     ]
    }
   ],
   "source": [
    "print(empire_state_building.to_crs(epsg=3857).distance(top_of_the_rock.to_crs(epsg=3857)).round()[0] / 1000,\n",
    "     '- 3857 Euclidean distance',\n",
    "      )\n",
    "print(round(distance.great_circle(empire_state_coords,rock_coords).km, 4),\n",
    "     '- Great Circle distance')\n",
    "print(round(distance.geodesic(empire_state_coords,rock_coords).km, 4),\n",
    "     '- WGS84  distance')"
   ]
  },
  {
   "cell_type": "markdown",
   "metadata": {},
   "source": [
    "![](https://upload.wikimedia.org/wikipedia/commons/thumb/b/b7/Universal_Transverse_Mercator_zones.svg/2880px-Universal_Transverse_Mercator_zones.svg.png)"
   ]
  },
  {
   "cell_type": "code",
   "execution_count": 94,
   "metadata": {},
   "outputs": [
    {
     "data": {
      "text/plain": [
       "<matplotlib.axes._subplots.AxesSubplot at 0x11bedc0f0>"
      ]
     },
     "execution_count": 94,
     "metadata": {},
     "output_type": "execute_result"
    },
    {
     "data": {
      "image/png": "[encoded data removed]",
      "text/plain": [
       "<Figure size 432x288 with 1 Axes>"
      ]
     },
     "metadata": {},
     "output_type": "display_data"
    }
   ],
   "source": [
    "f,ax = plt.subplots()\n",
    "empire_state_building.to_crs(epsg=3857).buffer(100).to_crs(epsg=3857).plot(ax=ax, color='red')\n",
    "empire_state_building.to_crs(epsg=32618).buffer(100).to_crs(epsg=3857).plot(ax=ax, alpha=0.6)"
   ]
  },
  {
   "cell_type": "markdown",
   "metadata": {},
   "source": [
    "![Image of Yaktocat](https://ours-nature.ru/new_site/img/991345842/i_019.jpg)"
   ]
  },
  {
   "cell_type": "markdown",
   "metadata": {},
   "source": [
    "<img src=\"https://upload.wikimedia.org/wikipedia/commons/4/4a/Geoid_undulation_10k_scale.jpg\" width=\"500\">"
   ]
  },
  {
   "cell_type": "code",
   "execution_count": 95,
   "metadata": {},
   "outputs": [
    {
     "data": {
      "text/html": [
       "<div>\n",
       "<style scoped>\n",
       "    .dataframe tbody tr th:only-of-type {\n",
       "        vertical-align: middle;\n",
       "    }\n",
       "\n",
       "    .dataframe tbody tr th {\n",
       "        vertical-align: top;\n",
       "    }\n",
       "\n",
       "    .dataframe thead th {\n",
       "        text-align: right;\n",
       "    }\n",
       "</style>\n",
       "<table border=\"1\" class=\"dataframe\">\n",
       "  <thead>\n",
       "    <tr style=\"text-align: right;\">\n",
       "      <th></th>\n",
       "      <th>geometry</th>\n",
       "    </tr>\n",
       "  </thead>\n",
       "  <tbody>\n",
       "    <tr>\n",
       "      <th>0</th>\n",
       "      <td>POINT (-73.98499579999999 40.7481628)</td>\n",
       "    </tr>\n",
       "  </tbody>\n",
       "</table>\n",
       "</div>"
      ],
      "text/plain": [
       "                                geometry\n",
       "0  POINT (-73.98499579999999 40.7481628)"
      ]
     },
     "execution_count": 95,
     "metadata": {},
     "output_type": "execute_result"
    }
   ],
   "source": [
    "empire_state_building"
   ]
  },
  {
   "cell_type": "code",
   "execution_count": 205,
   "metadata": {},
   "outputs": [
    {
     "data": {
      "image/png": "[encoded data removed]",
      "text/plain": [
       "<Figure size 432x288 with 1 Axes>"
      ]
     },
     "metadata": {},
     "output_type": "display_data"
    }
   ],
   "source": [
    "ny_lon = -73.98499\n",
    "points = []\n",
    "\n",
    "for lattitude in range(0,80,10):\n",
    "    points.append(Point(ny_lon, lattitude))\n",
    "    points.append(Point(ny_lon+40, lattitude))\n",
    "    points.append(Point(ny_lon-40, lattitude))\n",
    "    \n",
    "points = gpd.GeoDataFrame(geometry=points, crs={'init': 'epsg:4326'})\n",
    "points.plot();"
   ]
  },
  {
   "cell_type": "code",
   "execution_count": 206,
   "metadata": {},
   "outputs": [],
   "source": [
    "points_mercator = points.copy()\n",
    "points_mercator['geometry'] = points.to_crs(epsg=3857).buffer(500000)\n",
    "points_mercator.crs = {'init': 'epsg:3857'}\n",
    "points_mercator = points_mercator.to_crs(epsg=4326)\n",
    "\n",
    "points_utm = points.copy()\n",
    "points_utm['geometry'] = points.to_crs(epsg=32618).buffer(500000)\n",
    "points_utm.crs = {'init': 'epsg:32618'}\n",
    "points_utm = points_utm.to_crs(epsg=4326)"
   ]
  },
  {
   "cell_type": "code",
   "execution_count": 207,
   "metadata": {},
   "outputs": [
    {
     "data": {
      "text/plain": [
       "<matplotlib.axes._subplots.AxesSubplot at 0x11fe5def0>"
      ]
     },
     "execution_count": 207,
     "metadata": {},
     "output_type": "execute_result"
    },
    {
     "data": {
      "image/png": "[encoded data removed]",
      "text/plain": [
       "<Figure size 720x720 with 1 Axes>"
      ]
     },
     "metadata": {},
     "output_type": "display_data"
    }
   ],
   "source": [
    "f, ax = plt.subplots(figsize=(10,10))\n",
    "points_utm.to_crs(epsg=3857).plot(ax=ax, alpha=0.5)\n",
    "points_mercator.to_crs(epsg=3857).plot(ax=ax, color='red', alpha=0.5)"
   ]
  },
  {
   "cell_type": "code",
   "execution_count": 208,
   "metadata": {},
   "outputs": [
    {
     "ename": "DriverIOError",
     "evalue": "GeoJSON driver doesn't support creating a layer on a read-only datasource",
     "output_type": "error",
     "traceback": [
      "\u001b[0;31m---------------------------------------------------------------------------\u001b[0m",
      "\u001b[0;31mCPLE_NotSupportedError\u001b[0m                    Traceback (most recent call last)",
      "\u001b[0;32mfiona/ogrext.pyx\u001b[0m in \u001b[0;36mfiona.ogrext.WritingSession.start\u001b[0;34m()\u001b[0m\n",
      "\u001b[0;32mfiona/_err.pyx\u001b[0m in \u001b[0;36mfiona._err.exc_wrap_pointer\u001b[0;34m()\u001b[0m\n",
      "\u001b[0;31mCPLE_NotSupportedError\u001b[0m: GeoJSON driver doesn't support creating a layer on a read-only datasource",
      "\nDuring handling of the above exception, another exception occurred:\n",
      "\u001b[0;31mDriverIOError\u001b[0m                             Traceback (most recent call last)",
      "\u001b[0;32m<ipython-input-208-74c191a7c5b8>\u001b[0m in \u001b[0;36m<module>\u001b[0;34m()\u001b[0m\n\u001b[0;32m----> 1\u001b[0;31m \u001b[0mpoints_mercator\u001b[0m\u001b[0;34m.\u001b[0m\u001b[0mto_file\u001b[0m\u001b[0;34m(\u001b[0m\u001b[0;34m'check_merc2.geojson'\u001b[0m\u001b[0;34m,\u001b[0m \u001b[0mdriver\u001b[0m\u001b[0;34m=\u001b[0m\u001b[0;34m'GeoJSON'\u001b[0m\u001b[0;34m)\u001b[0m\u001b[0;34m\u001b[0m\u001b[0m\n\u001b[0m\u001b[1;32m      2\u001b[0m \u001b[0mpoints_utm\u001b[0m\u001b[0;34m.\u001b[0m\u001b[0mto_file\u001b[0m\u001b[0;34m(\u001b[0m\u001b[0;34m'check_utm2.geojson'\u001b[0m\u001b[0;34m,\u001b[0m \u001b[0mdriver\u001b[0m\u001b[0;34m=\u001b[0m\u001b[0;34m'GeoJSON'\u001b[0m\u001b[0;34m)\u001b[0m\u001b[0;34m\u001b[0m\u001b[0m\n",
      "\u001b[0;32m/usr/local/lib/python3.6/site-packages/geopandas/geodataframe.py\u001b[0m in \u001b[0;36mto_file\u001b[0;34m(self, filename, driver, schema, **kwargs)\u001b[0m\n\u001b[1;32m    427\u001b[0m         \"\"\"\n\u001b[1;32m    428\u001b[0m         \u001b[0;32mfrom\u001b[0m \u001b[0mgeopandas\u001b[0m\u001b[0;34m.\u001b[0m\u001b[0mio\u001b[0m\u001b[0;34m.\u001b[0m\u001b[0mfile\u001b[0m \u001b[0;32mimport\u001b[0m \u001b[0mto_file\u001b[0m\u001b[0;34m\u001b[0m\u001b[0m\n\u001b[0;32m--> 429\u001b[0;31m         \u001b[0mto_file\u001b[0m\u001b[0;34m(\u001b[0m\u001b[0mself\u001b[0m\u001b[0;34m,\u001b[0m \u001b[0mfilename\u001b[0m\u001b[0;34m,\u001b[0m \u001b[0mdriver\u001b[0m\u001b[0;34m,\u001b[0m \u001b[0mschema\u001b[0m\u001b[0;34m,\u001b[0m \u001b[0;34m**\u001b[0m\u001b[0mkwargs\u001b[0m\u001b[0;34m)\u001b[0m\u001b[0;34m\u001b[0m\u001b[0m\n\u001b[0m\u001b[1;32m    430\u001b[0m \u001b[0;34m\u001b[0m\u001b[0m\n\u001b[1;32m    431\u001b[0m     \u001b[0;32mdef\u001b[0m \u001b[0mto_crs\u001b[0m\u001b[0;34m(\u001b[0m\u001b[0mself\u001b[0m\u001b[0;34m,\u001b[0m \u001b[0mcrs\u001b[0m\u001b[0;34m=\u001b[0m\u001b[0;32mNone\u001b[0m\u001b[0;34m,\u001b[0m \u001b[0mepsg\u001b[0m\u001b[0;34m=\u001b[0m\u001b[0;32mNone\u001b[0m\u001b[0;34m,\u001b[0m \u001b[0minplace\u001b[0m\u001b[0;34m=\u001b[0m\u001b[0;32mFalse\u001b[0m\u001b[0;34m)\u001b[0m\u001b[0;34m:\u001b[0m\u001b[0;34m\u001b[0m\u001b[0m\n",
      "\u001b[0;32m/usr/local/lib/python3.6/site-packages/geopandas/io/file.py\u001b[0m in \u001b[0;36mto_file\u001b[0;34m(df, filename, driver, schema, **kwargs)\u001b[0m\n\u001b[1;32m    128\u001b[0m     \u001b[0;32mwith\u001b[0m \u001b[0mfiona_env\u001b[0m\u001b[0;34m(\u001b[0m\u001b[0;34m)\u001b[0m\u001b[0;34m:\u001b[0m\u001b[0;34m\u001b[0m\u001b[0m\n\u001b[1;32m    129\u001b[0m         with fiona.open(filename, 'w', driver=driver, crs=df.crs,\n\u001b[0;32m--> 130\u001b[0;31m                         schema=schema, **kwargs) as colxn:\n\u001b[0m\u001b[1;32m    131\u001b[0m             \u001b[0mcolxn\u001b[0m\u001b[0;34m.\u001b[0m\u001b[0mwriterecords\u001b[0m\u001b[0;34m(\u001b[0m\u001b[0mdf\u001b[0m\u001b[0;34m.\u001b[0m\u001b[0miterfeatures\u001b[0m\u001b[0;34m(\u001b[0m\u001b[0;34m)\u001b[0m\u001b[0;34m)\u001b[0m\u001b[0;34m\u001b[0m\u001b[0m\n\u001b[1;32m    132\u001b[0m \u001b[0;34m\u001b[0m\u001b[0m\n",
      "\u001b[0;32m/usr/local/lib/python3.6/site-packages/fiona/__init__.py\u001b[0m in \u001b[0;36mopen\u001b[0;34m(path, mode, driver, schema, crs, encoding, layer, vfs, enabled_drivers, crs_wkt)\u001b[0m\n\u001b[1;32m    173\u001b[0m         c = Collection(path, mode, crs=crs, driver=driver, schema=this_schema,\n\u001b[1;32m    174\u001b[0m                        \u001b[0mencoding\u001b[0m\u001b[0;34m=\u001b[0m\u001b[0mencoding\u001b[0m\u001b[0;34m,\u001b[0m \u001b[0mlayer\u001b[0m\u001b[0;34m=\u001b[0m\u001b[0mlayer\u001b[0m\u001b[0;34m,\u001b[0m \u001b[0mvsi\u001b[0m\u001b[0;34m=\u001b[0m\u001b[0mvsi\u001b[0m\u001b[0;34m,\u001b[0m \u001b[0marchive\u001b[0m\u001b[0;34m=\u001b[0m\u001b[0marchive\u001b[0m\u001b[0;34m,\u001b[0m\u001b[0;34m\u001b[0m\u001b[0m\n\u001b[0;32m--> 175\u001b[0;31m                        enabled_drivers=enabled_drivers, crs_wkt=crs_wkt)\n\u001b[0m\u001b[1;32m    176\u001b[0m     \u001b[0;32melse\u001b[0m\u001b[0;34m:\u001b[0m\u001b[0;34m\u001b[0m\u001b[0m\n\u001b[1;32m    177\u001b[0m         raise ValueError(\n",
      "\u001b[0;32m/usr/local/lib/python3.6/site-packages/fiona/collection.py\u001b[0m in \u001b[0;36m__init__\u001b[0;34m(self, path, mode, driver, schema, crs, encoding, layer, vsi, archive, enabled_drivers, crs_wkt, **kwargs)\u001b[0m\n\u001b[1;32m    154\u001b[0m             \u001b[0;32melif\u001b[0m \u001b[0mself\u001b[0m\u001b[0;34m.\u001b[0m\u001b[0mmode\u001b[0m \u001b[0;32min\u001b[0m \u001b[0;34m(\u001b[0m\u001b[0;34m'a'\u001b[0m\u001b[0;34m,\u001b[0m \u001b[0;34m'w'\u001b[0m\u001b[0;34m)\u001b[0m\u001b[0;34m:\u001b[0m\u001b[0;34m\u001b[0m\u001b[0m\n\u001b[1;32m    155\u001b[0m                 \u001b[0mself\u001b[0m\u001b[0;34m.\u001b[0m\u001b[0msession\u001b[0m \u001b[0;34m=\u001b[0m \u001b[0mWritingSession\u001b[0m\u001b[0;34m(\u001b[0m\u001b[0;34m)\u001b[0m\u001b[0;34m\u001b[0m\u001b[0m\n\u001b[0;32m--> 156\u001b[0;31m                 \u001b[0mself\u001b[0m\u001b[0;34m.\u001b[0m\u001b[0msession\u001b[0m\u001b[0;34m.\u001b[0m\u001b[0mstart\u001b[0m\u001b[0;34m(\u001b[0m\u001b[0mself\u001b[0m\u001b[0;34m,\u001b[0m \u001b[0;34m**\u001b[0m\u001b[0mkwargs\u001b[0m\u001b[0;34m)\u001b[0m\u001b[0;34m\u001b[0m\u001b[0m\n\u001b[0m\u001b[1;32m    157\u001b[0m         \u001b[0;32mexcept\u001b[0m \u001b[0mIOError\u001b[0m\u001b[0;34m:\u001b[0m\u001b[0;34m\u001b[0m\u001b[0m\n\u001b[1;32m    158\u001b[0m             \u001b[0mself\u001b[0m\u001b[0;34m.\u001b[0m\u001b[0msession\u001b[0m \u001b[0;34m=\u001b[0m \u001b[0;32mNone\u001b[0m\u001b[0;34m\u001b[0m\u001b[0m\n",
      "\u001b[0;32mfiona/ogrext.pyx\u001b[0m in \u001b[0;36mfiona.ogrext.WritingSession.start\u001b[0;34m()\u001b[0m\n",
      "\u001b[0;31mDriverIOError\u001b[0m: GeoJSON driver doesn't support creating a layer on a read-only datasource"
     ]
    }
   ],
   "source": [
    "points_mercator.to_file('check_merc2.geojson', driver='GeoJSON')\n",
    "points_utm.to_file('check_utm2.geojson', driver='GeoJSON')"
   ]
  },
  {
   "cell_type": "code",
   "execution_count": 209,
   "metadata": {},
   "outputs": [
    {
     "data": {
      "image/svg+xml": [
       "<svg xmlns=\"http://www.w3.org/2000/svg\" xmlns:xlink=\"http://www.w3.org/1999/xlink\" width=\"100.0\" height=\"100.0\" viewBox=\"-77.0792597341261 44.39799208106474 2.7585194682521887 2.0038734936565277\" preserveAspectRatio=\"xMinYMin meet\"><g transform=\"matrix(1,0,0,-1,0,90.79985765578601)\"><path fill-rule=\"evenodd\" fill=\"#66cc99\" stroke=\"#555555\" stroke-width=\"0.05517038936504377\" opacity=\"0.6\" d=\"M -74.42290765358695,45.39286001598599 L -74.43102886629593,45.304749544147974 L -74.45130435882973,45.21762060436458 L -74.48348547224315,45.1323057616408 L -74.52721388370169,45.049616639284274 L -74.5820268153558,44.97033651421593 L -74.64736296746827,44.89521329343101 L -74.72256907268554,44.824952917920506 L -74.8069069756517,44.76021323382723 L -74.89956115070326,44.701598364618334 L -74.99964657960544,44.64965361264616 L -75.10621692071173,44.604860913649276 L -75.21827291013554,44.56763486349806 L -75.33477094417532,44.53831933277375 L -75.45463180005838,44.517184681533564 L -75.5767494588547,44.504425583792866 L -75.7,44.50015946877779 L -75.82325054114528,44.504425583792866 L -75.94536819994161,44.517184681533564 L -76.06522905582467,44.538319332773746 L -76.18172708986447,44.56763486349807 L -76.29378307928829,44.604860913649276 L -76.40035342039455,44.64965361264616 L -76.50043884929676,44.701598364618334 L -76.59309302434829,44.76021323382723 L -76.67743092731446,44.824952917920506 L -76.75263703253174,44.89521329343102 L -76.8179731846442,44.970336514215916 L -76.87278611629831,45.049616639284274 L -76.91651452775687,45.132305761640794 L -76.94869564117027,45.217620604364605 L -76.96897113370407,45.304749544147974 L -76.97709234641306,45.39286001598599 L -76.97292466027376,45.48110624570844 L -76.95645092776701,45.568637249705766 L -76.92777384846646,45.65460503368619 L -76.88711718082747,45.73817291482957 L -76.83482569028662,45.818523884534166 L -76.77136374625024,45.894868922384475 L -76.6973124977633,45.966455166331095 L -76.61336557957326,46.03257383970781 L -76.52032332664515,46.09256783295951 L -76.41908550536327,46.14583883713008 L -76.31064260280758,46.19185392753323 L -76.19606575048921,46.230151499801956 L -76.07649539441185,46.26034646679444 L -75.95312885778955,46.28213463363224 L -75.82720697461527,46.29529617934927 L -75.7,46.299698187008225 L -75.57279302538474,46.29529617934927 L -75.44687114221045,46.28213463363223 L -75.32350460558816,46.260346466794445 L -75.20393424951081,46.230151499801956 L -75.08935739719243,46.19185392753323 L -74.98091449463675,46.145838837130086 L -74.87967667335485,46.09256783295951 L -74.78663442042675,46.032573839707815 L -74.7026875022367,45.966455166331095 L -74.62863625374976,45.894868922384475 L -74.56517430971338,45.818523884534166 L -74.51288281917255,45.73817291482959 L -74.47222615153356,45.6546050336862 L -74.443549072233,45.56863724970577 L -74.42707533972624,45.481106245708446 L -74.42290765358695,45.392860015985995 L -74.42290765358695,45.39286001598599 z\" /></g></svg>"
      ],
      "text/plain": [
       "<shapely.geometry.polygon.Polygon at 0x11ff08a90>"
      ]
     },
     "execution_count": 209,
     "metadata": {},
     "output_type": "execute_result"
    }
   ],
   "source": [
    "from functools import partial\n",
    "import pyproj\n",
    "from shapely.ops import transform\n",
    "from shapely.geometry import Point\n",
    "\n",
    "proj_wgs84 = pyproj.Proj('+proj=longlat +datum=WGS84')\n",
    "\n",
    "\n",
    "def geodesic_point_buffer(lon, lat, km):\n",
    "    # Azimuthal equidistant projection\n",
    "    aeqd_proj = '+proj=aeqd +lat_0={lat} +lon_0={lon} +x_0=0 +y_0=0'\n",
    "    project = partial(==\n",
    "        pyproj.transform,\n",
    "        pyproj.Proj(aeqd_proj.format(lon=lon, lat=lat)),\n",
    "        proj_wgs84)\n",
    "    buf = Point(0, 0).buffer(km * 1000)  # distance in metres\n",
    "    return transform(project, buf)\n",
    "\n",
    "# Example\n",
    "b = geodesic_point_buffer(-75.7, 45.4, 100.0)\n",
    "b"
   ]
  },
  {
   "cell_type": "code",
   "execution_count": 211,
   "metadata": {},
   "outputs": [],
   "source": [
    "points_geodesic = points.copy()\n",
    "points_geodesic['geometry'] = points.apply(lambda x: geodesic_point_buffer(x['geometry'].x,\n",
    "                                             x['geometry'].y,\n",
    "                                            500), axis=1)"
   ]
  },
  {
   "cell_type": "code",
   "execution_count": 217,
   "metadata": {},
   "outputs": [
    {
     "data": {
      "text/plain": [
       "<matplotlib.axes._subplots.AxesSubplot at 0x120730b70>"
      ]
     },
     "execution_count": 217,
     "metadata": {},
     "output_type": "execute_result"
    },
    {
     "data": {
      "image/png": "[encoded data removed]",
      "text/plain": [
       "<Figure size 720x720 with 1 Axes>"
      ]
     },
     "metadata": {},
     "output_type": "display_data"
    }
   ],
   "source": [
    "f, ax = plt.subplots(figsize=(10,10))\n",
    "points_utm.to_crs(epsg=3857).plot(ax=ax, alpha=0.5)\n",
    "points_mercator.to_crs(epsg=3857).plot(ax=ax, color='red', alpha=0.5)\n",
    "points_geodesic.to_crs(epsg=3857).plot(ax=ax, color='green', alpha=0.5)"
   ]
  },
  {
   "cell_type": "code",
   "execution_count": 269,
   "metadata": {},
   "outputs": [],
   "source": [
    "X,Y = np.mgrid[-160:170:10, -60:70:10]\n",
    "xy = np.vstack((X.flatten(), Y.flatten())).T"
   ]
  },
  {
   "cell_type": "code",
   "execution_count": 270,
   "metadata": {},
   "outputs": [],
   "source": [
    "geodesic_buffers = gpd.GeoDataFrame()\n",
    "\n",
    "geodesic_buffers['geometry'] = gpd.GeoDataFrame(geometry=[Point(x) for x\n",
    " in xy]).apply(lambda x: geodesic_point_buffer(x['geometry'].x,\n",
    "                                             x['geometry'].y,\n",
    "                                            200), axis=1)"
   ]
  },
  {
   "cell_type": "code",
   "execution_count": 271,
   "metadata": {},
   "outputs": [
    {
     "data": {
      "text/plain": [
       "<matplotlib.axes._subplots.AxesSubplot at 0x120cd2b38>"
      ]
     },
     "execution_count": 271,
     "metadata": {},
     "output_type": "execute_result"
    },
    {
     "data": {
      "image/png": "[encoded data removed]",
      "text/plain": [
       "<Figure size 432x288 with 1 Axes>"
      ]
     },
     "metadata": {},
     "output_type": "display_data"
    }
   ],
   "source": [
    "geodesic_buffers.plot()"
   ]
  },
  {
   "cell_type": "code",
   "execution_count": 267,
   "metadata": {},
   "outputs": [],
   "source": [
    "geodesic_buffers.to_file('geodesic_buffers5.geojson', driver='GeoJSON')"
   ]
  },
  {
   "cell_type": "code",
   "execution_count": 190,
   "metadata": {},
   "outputs": [
    {
     "data": {
      "image/svg+xml": [
       "<svg xmlns=\"http://www.w3.org/2000/svg\" xmlns:xlink=\"http://www.w3.org/1999/xlink\" width=\"100.0\" height=\"100.0\" viewBox=\"-77.0792597341261 44.39799208106474 2.7585194682521887 2.0038734936565277\" preserveAspectRatio=\"xMinYMin meet\"><g transform=\"matrix(1,0,0,-1,0,90.79985765578601)\"><path fill-rule=\"evenodd\" fill=\"#66cc99\" stroke=\"#555555\" stroke-width=\"0.05517038936504377\" opacity=\"0.6\" d=\"M -74.42290765358695,45.39286001598599 L -74.43102886629593,45.304749544147974 L -74.45130435882973,45.21762060436458 L -74.48348547224315,45.1323057616408 L -74.52721388370169,45.049616639284274 L -74.5820268153558,44.97033651421593 L -74.64736296746827,44.89521329343101 L -74.72256907268554,44.824952917920506 L -74.8069069756517,44.76021323382723 L -74.89956115070326,44.701598364618334 L -74.99964657960544,44.64965361264616 L -75.10621692071173,44.604860913649276 L -75.21827291013554,44.56763486349806 L -75.33477094417532,44.53831933277375 L -75.45463180005838,44.517184681533564 L -75.5767494588547,44.504425583792866 L -75.7,44.50015946877779 L -75.82325054114528,44.504425583792866 L -75.94536819994161,44.517184681533564 L -76.06522905582467,44.538319332773746 L -76.18172708986447,44.56763486349807 L -76.29378307928829,44.604860913649276 L -76.40035342039455,44.64965361264616 L -76.50043884929676,44.701598364618334 L -76.59309302434829,44.76021323382723 L -76.67743092731446,44.824952917920506 L -76.75263703253174,44.89521329343102 L -76.8179731846442,44.970336514215916 L -76.87278611629831,45.049616639284274 L -76.91651452775687,45.132305761640794 L -76.94869564117027,45.217620604364605 L -76.96897113370407,45.304749544147974 L -76.97709234641306,45.39286001598599 L -76.97292466027376,45.48110624570844 L -76.95645092776701,45.568637249705766 L -76.92777384846646,45.65460503368619 L -76.88711718082747,45.73817291482957 L -76.83482569028662,45.818523884534166 L -76.77136374625024,45.894868922384475 L -76.6973124977633,45.966455166331095 L -76.61336557957326,46.03257383970781 L -76.52032332664515,46.09256783295951 L -76.41908550536327,46.14583883713008 L -76.31064260280758,46.19185392753323 L -76.19606575048921,46.230151499801956 L -76.07649539441185,46.26034646679444 L -75.95312885778955,46.28213463363224 L -75.82720697461527,46.29529617934927 L -75.7,46.299698187008225 L -75.57279302538474,46.29529617934927 L -75.44687114221045,46.28213463363223 L -75.32350460558816,46.260346466794445 L -75.20393424951081,46.230151499801956 L -75.08935739719243,46.19185392753323 L -74.98091449463675,46.145838837130086 L -74.87967667335485,46.09256783295951 L -74.78663442042675,46.032573839707815 L -74.7026875022367,45.966455166331095 L -74.62863625374976,45.894868922384475 L -74.56517430971338,45.818523884534166 L -74.51288281917255,45.73817291482959 L -74.47222615153356,45.6546050336862 L -74.443549072233,45.56863724970577 L -74.42707533972624,45.481106245708446 L -74.42290765358695,45.392860015985995 L -74.42290765358695,45.39286001598599 z\" /></g></svg>"
      ],
      "text/plain": [
       "<shapely.geometry.polygon.Polygon at 0x11fb2b278>"
      ]
     },
     "execution_count": 190,
     "metadata": {},
     "output_type": "execute_result"
    }
   ],
   "source": [
    "b"
   ]
  },
  {
   "cell_type": "code",
   "execution_count": 103,
   "metadata": {},
   "outputs": [
    {
     "data": {
      "text/plain": [
       "0     POLYGON ((662951.1480894252 0, 662710.38442303...\n",
       "1     POLYGON ((6175021.003904309 0, 6174780.2402379...\n",
       "2     POLYGON ((-5075021.003904306 0, -5075261.76757...\n",
       "3     POLYGON ((661246.0417282104 1105583.613513702,...\n",
       "4     POLYGON ((6039665.37713741 1552689.772609534, ...\n",
       "5     POLYGON ((-4939665.377137408 1552689.772609533...\n",
       "6     POLYGON ((656179.6355429925 2211803.001288206,...\n",
       "7     POLYGON ((5660121.931825355 3019513.589036783,...\n",
       "8     POLYGON ((-4560121.931825353 3019513.589036781...\n",
       "9     POLYGON ((647897.945085658 3319218.953278086, ...\n",
       "10    POLYGON ((5098881.841930371 4348774.844052171,...\n",
       "11    POLYGON ((-3998881.841930368 4348774.844052169...\n",
       "12    POLYGON ((636641.7457757528 4428250.548433637,...\n",
       "13    POLYGON ((4422613.504936961 5529598.289775392,...\n",
       "14    POLYGON ((-3322613.504936959 5529598.289775391...\n",
       "15    POLYGON ((622742.1416015044 5539124.306762469,...\n",
       "16    POLYGON ((3682675.752693696 6577911.400105381,...\n",
       "17    POLYGON ((-2582675.752693694 6577911.400105381...\n",
       "18    POLYGON ((606613.425078154 6651845.48535878, 6...\n",
       "19    POLYGON ((2911706.624558486 7520788.485097284,...\n",
       "20    POLYGON ((-1811706.624558485 7520788.485097283...\n",
       "21    POLYGON ((588742.6651211381 7766195.618627133,...\n",
       "22    POLYGON ((2127733.107537923 8387220.962144215,...\n",
       "23    POLYGON ((-1027733.107537922 8387220.962144215...\n",
       "dtype: object"
      ]
     },
     "execution_count": 103,
     "metadata": {},
     "output_type": "execute_result"
    }
   ],
   "source": [
    "points.to_crs(epsg=32618).buffer(50000)"
   ]
  },
  {
   "cell_type": "code",
   "execution_count": null,
   "metadata": {},
   "outputs": [],
   "source": []
  },
  {
   "cell_type": "code",
   "execution_count": 97,
   "metadata": {
    "scrolled": false
   },
   "outputs": [],
   "source": [
    "utm = []\n",
    "merc = []\n",
    "\n",
    "for x in range(0,80,10):\n",
    "\n",
    "    merc.append(gpd.GeoSeries(Point(-73.98499, x),\n",
    "                  crs={'init': 'epsg:4326'}).to_crs(epsg=3857).buffer(1000).to_crs(epsg=4326)[0])\n",
    "    utm.append(gpd.GeoSeries(Point(-73.98499,x),\n",
    "                  crs={'init': 'epsg:4326'}).to_crs(epsg=32618).buffer(1000).to_crs(epsg=4326)[0])\n",
    "    \n",
    "    merc.append(gpd.GeoSeries(Point(-30, x),\n",
    "                  crs={'init': 'epsg:4326'}).to_crs(epsg=3857).buffer(1000).to_crs(epsg=4326)[0])\n",
    "    utm.append(gpd.GeoSeries(Point(-30, x),\n",
    "                  crs={'init': 'epsg:4326'}).to_crs(epsg=32618).buffer(1000).to_crs(epsg=4326)[0])\n",
    "    \n",
    "    merc.append(gpd.GeoSeries(Point(-120, x),\n",
    "                  crs={'init': 'epsg:4326'}).to_crs(epsg=3857).buffer(1000).to_crs(epsg=4326)[0])\n",
    "    utm.append(gpd.GeoSeries(Point(-120, x),\n",
    "                  crs={'init': 'epsg:4326'}).to_crs(epsg=32618).buffer(1000).to_crs(epsg=4326)[0])\n"
   ]
  },
  {
   "cell_type": "code",
   "execution_count": null,
   "metadata": {},
   "outputs": [],
   "source": [
    "utm = []\n",
    "merc = []\n",
    "for x in range(0,80,10):\n",
    "    merc.append(gpd.GeoSeries(Point(-73.98499,x),\n",
    "                  crs={'init': 'epsg:4326'}).to_crs(epsg=3857).buffer(1000).to_crs(epsg=4326)[0])\n",
    "    utm.append(gpd.GeoSeries(Point(-73.98499,x),\n",
    "                  crs={'init': 'epsg:4326'}).to_crs(epsg=32618).buffer(1000).to_crs(epsg=4326)[0])"
   ]
  },
  {
   "cell_type": "code",
   "execution_count": null,
   "metadata": {},
   "outputs": [],
   "source": [
    "test = gpd.GeoDataFrame()\n",
    "test['geometry'] = merc\n",
    "test.to_file('merc4.geojson', driver='GeoJSON')\n",
    "\n",
    "test['geometry'] = utm\n",
    "test.to_file('utm4.geojson', driver='GeoJSON')"
   ]
  },
  {
   "cell_type": "code",
   "execution_count": 127,
   "metadata": {},
   "outputs": [
    {
     "data": {
      "image/png": "[encoded data removed]",
      "text/plain": [
       "<Figure size 432x288 with 1 Axes>"
      ]
     },
     "metadata": {},
     "output_type": "display_data"
    }
   ],
   "source": [
    "f,ax = plt.subplots()\n",
    "for x in range(0,80,10):\n",
    "    merc.append(gpd.GeoSeries(Point(-73.98499,x),\n",
    "                  crs={'init': 'epsg:4326'}).to_crs(epsg=3857).buffer(500000).to_crs(epsg=4326)[0])\n",
    "    utm.append(gpd.GeoSeries(Point(-73.98499,x),\n",
    "                  crs={'init': 'epsg:4326'}).to_crs(epsg=32618).buffer(500000).to_crs(epsg=4326)[0])"
   ]
  },
  {
   "cell_type": "code",
   "execution_count": null,
   "metadata": {},
   "outputs": [],
   "source": []
  },
  {
   "cell_type": "code",
   "execution_count": null,
   "metadata": {},
   "outputs": [],
   "source": []
  },
  {
   "cell_type": "code",
   "execution_count": null,
   "metadata": {},
   "outputs": [],
   "source": [
    "f,ax = plt.subplots()\n",
    "gpd.GeoSeries(Point(-73.98499,10), crs={'init': 'epsg:4326'}).to_crs(epsg=3857).buffer(10000).to_crs(epsg=3857).plot(ax=ax, color='red')\n",
    "gpd.GeoSeries(Point(-73.98499,10), crs={'init': 'epsg:4326'}).to_crs(epsg=32618).buffer(10000).to_crs(epsg=3857).plot(ax=ax, alpha=0.6)"
   ]
  },
  {
   "cell_type": "code",
   "execution_count": null,
   "metadata": {},
   "outputs": [],
   "source": [
    "f,ax = plt.subplots()\n",
    "gpd.GeoSeries(Point(-73.98499,40), crs={'init': 'epsg:4326'}).to_crs(epsg=3857).buffer(10000).to_crs(epsg=3857).plot(ax=ax, color='red')\n",
    "gpd.GeoSeries(Point(-73.98499,40), crs={'init': 'epsg:4326'}).to_crs(epsg=32618).buffer(10000).to_crs(epsg=3857).plot(ax=ax, alpha=0.6)"
   ]
  },
  {
   "cell_type": "code",
   "execution_count": null,
   "metadata": {},
   "outputs": [],
   "source": [
    "distance.great_circle((40.7481628, -73.9849958), (eiffel_tower.geometry[0].coords[0][1],\n",
    "                                                  eiffel_tower.geometry[0].coords[0][0]))"
   ]
  },
  {
   "cell_type": "code",
   "execution_count": null,
   "metadata": {},
   "outputs": [],
   "source": [
    "distance.geodesic((40.7481628, -73.9849958), (eiffel_tower.geometry[0].coords[0][1], eiffel_tower.geometry[0].coords[0][0]))"
   ]
  },
  {
   "cell_type": "code",
   "execution_count": null,
   "metadata": {},
   "outputs": [],
   "source": [
    "empire_state_building.distance(top_of_the_rock)"
   ]
  },
  {
   "cell_type": "code",
   "execution_count": null,
   "metadata": {},
   "outputs": [],
   "source": [
    "empire_state_building.to_crs(epsg=3857).distance(top_of_the_rock.to_crs(epsg=3857)).round() / 1000"
   ]
  },
  {
   "cell_type": "code",
   "execution_count": null,
   "metadata": {},
   "outputs": [],
   "source": [
    "empire_state_building.to_crs(epsg=32618).distance(top_of_the_rock.to_crs(epsg=32618)).round() / 1000"
   ]
  },
  {
   "cell_type": "code",
   "execution_count": null,
   "metadata": {},
   "outputs": [],
   "source": [
    "distance.great_circle((40.7481628, -73.9849958), (top_of_the_rock.geometry[0].coords[0][1],\n",
    "                                                  top_of_the_rock.geometry[0].coords[0][0]))"
   ]
  },
  {
   "cell_type": "code",
   "execution_count": null,
   "metadata": {},
   "outputs": [],
   "source": [
    "distance.geodesic((40.7481628, -73.9849958), (top_of_the_rock.geometry[0].coords[0][1],\n",
    "                                                  top_of_the_rock.geometry[0].coords[0][0]))"
   ]
  },
  {
   "cell_type": "code",
   "execution_count": null,
   "metadata": {},
   "outputs": [],
   "source": [
    "lon_min = -74.103095\n",
    "lat_min = 40.597399\n",
    "lon_max = -73.729243\n",
    "lat_max = 40.906114\n",
    "\n",
    "ny_bbox = lat_min,lon_min,lat_max,lon_max\n",
    "\n",
    "overpass_url = \"http://overpass-api.de/api/interpreter\"\n",
    "\n",
    "overpass_query = '''\n",
    "[out:json];\n",
    "(node[\"station\"=\"subway\"]({},{},{},{});\n",
    ");\n",
    "out center;\n",
    "'''.format(*ny_bbox)"
   ]
  },
  {
   "cell_type": "code",
   "execution_count": null,
   "metadata": {},
   "outputs": [],
   "source": [
    "lon_min = -74.103095\n",
    "lat_min = 40.597399\n",
    "lon_max = -73.729243\n",
    "lat_max = 40.906114\n",
    "\n",
    "ny_bbox = lat_min,lon_min,lat_max,lon_max\n",
    "\n",
    "overpass_url = \"http://overpass-api.de/api/interpreter\"\n",
    "\n",
    "overpass_query = '''\n",
    "[out:json];\n",
    "(node[\"amenity\"]({},{},{},{});\n",
    ");\n",
    "out center;\n",
    "'''.format(*ny_bbox)"
   ]
  },
  {
   "cell_type": "code",
   "execution_count": null,
   "metadata": {},
   "outputs": [],
   "source": [
    "response = requests.get(overpass_url, \n",
    "                        params={'data': overpass_query})\n",
    "amenity = response.json()"
   ]
  },
  {
   "cell_type": "code",
   "execution_count": null,
   "metadata": {},
   "outputs": [],
   "source": [
    "pd.DataFrame(amenity['elements']).shape"
   ]
  },
  {
   "cell_type": "code",
   "execution_count": null,
   "metadata": {},
   "outputs": [],
   "source": [
    "amenity_osm = pd.DataFrame(amenity['elements'])\n",
    "amenity_osm = amenity_osm.join(\n",
    "    pd.DataFrame([x['tags'] for x in amenity['elements']])).drop('tags', axis=1)"
   ]
  },
  {
   "cell_type": "code",
   "execution_count": null,
   "metadata": {},
   "outputs": [],
   "source": [
    "lon_min = -74.103095\n",
    "lat_min = 40.597399\n",
    "lon_max = -73.729243\n",
    "lat_max = 40.906114\n",
    "\n",
    "ny_bbox = lat_min,lon_min,lat_max,lon_max\n",
    "\n",
    "overpass_url = \"http://overpass-api.de/api/interpreter\"\n",
    "\n",
    "overpass_query = '''\n",
    "[out:json];\n",
    "(way[\"amenity\"]({},{},{},{});\n",
    ");\n",
    "out center;\n",
    "'''.format(*ny_bbox)\n",
    "\n",
    "response = requests.get(overpass_url, \n",
    "                        params={'data': overpass_query})\n",
    "amenity = response.json()\n",
    "\n",
    "\n",
    "amenity_osm = pd.DataFrame(amenity['elements'])\n",
    "amenity_osm = amenity_osm.drop('type', axis=1).join(\n",
    "    pd.DataFrame([x['tags'] for x in amenity['elements']])).drop('tags', axis=1)"
   ]
  },
  {
   "cell_type": "code",
   "execution_count": null,
   "metadata": {},
   "outputs": [],
   "source": [
    "amenity['elements'][0]"
   ]
  },
  {
   "cell_type": "code",
   "execution_count": null,
   "metadata": {},
   "outputs": [],
   "source": [
    "amenity_osm['lon'] = [x['lon'] for x in amenity_osm['center']]\n",
    "amenity_osm['lat'] = [x['lat'] for x in amenity_osm['center']]"
   ]
  },
  {
   "cell_type": "code",
   "execution_count": null,
   "metadata": {},
   "outputs": [],
   "source": [
    "amenity_osm.brand.value_counts()"
   ]
  },
  {
   "cell_type": "code",
   "execution_count": null,
   "metadata": {},
   "outputs": [],
   "source": []
  },
  {
   "cell_type": "code",
   "execution_count": null,
   "metadata": {},
   "outputs": [],
   "source": [
    "response = requests.get(overpass_url, \n",
    "                        params={'data': overpass_query})\n",
    "data = response.json()"
   ]
  },
  {
   "cell_type": "code",
   "execution_count": null,
   "metadata": {},
   "outputs": [],
   "source": [
    "data"
   ]
  },
  {
   "cell_type": "code",
   "execution_count": null,
   "metadata": {},
   "outputs": [],
   "source": [
    "pd.DataFrame(data['elements']).head()"
   ]
  },
  {
   "cell_type": "code",
   "execution_count": null,
   "metadata": {},
   "outputs": [],
   "source": [
    "stations_osm = pd.DataFrame(data['elements'])\n",
    "stations_osm = stations_osm.join(pd.DataFrame([x['tags'] for x in data['elements']])).drop('tags', axis=1)"
   ]
  },
  {
   "cell_type": "code",
   "execution_count": null,
   "metadata": {},
   "outputs": [],
   "source": [
    "stations_osm[['name', 'lat', 'lon', 'gtfs_stop_code', 'location']].head()"
   ]
  },
  {
   "cell_type": "code",
   "execution_count": null,
   "metadata": {},
   "outputs": [],
   "source": [
    "top_of_the_rock.plot()"
   ]
  },
  {
   "cell_type": "code",
   "execution_count": null,
   "metadata": {},
   "outputs": [],
   "source": [
    "f, ax = plt.subplots()\n",
    "base = ax.scatter(amenity_osm.lon, amenity_osm.lat)\n",
    "top_of_the_rock.plot(c='red', ax=ax);\n",
    "empire_state_building.plot(c='red', ax=ax);"
   ]
  },
  {
   "cell_type": "code",
   "execution_count": null,
   "metadata": {},
   "outputs": [],
   "source": [
    "f, ax = plt.subplots(figsize=(20,20))\n",
    "base = ax.scatter(amenity_osm.lon, amenity_osm.lat, alpha=0.01)\n",
    "ax.scatter(amenity_osm[amenity_osm.cuisine == 'chinese'].lon,\n",
    "           amenity_osm[amenity_osm.cuisine == 'chinese'].lat, c='orange')\n",
    "\n",
    "ax.scatter(amenity_osm[amenity_osm.cuisine == 'italian'].lon,\n",
    "           amenity_osm[amenity_osm.cuisine == 'italian'].lat, c='green')\n",
    "\n",
    "ax.scatter(amenity_osm[amenity_osm.cuisine == 'japanese'].lon,\n",
    "           amenity_osm[amenity_osm.cuisine == 'japanese'].lat, c='red')\n",
    "\n",
    "#top_of_the_rock.plot(c='red', ax=ax);\n",
    "#empire_state_building.plot(c='red', ax=ax);"
   ]
  },
  {
   "cell_type": "code",
   "execution_count": null,
   "metadata": {},
   "outputs": [],
   "source": []
  },
  {
   "cell_type": "code",
   "execution_count": null,
   "metadata": {},
   "outputs": [],
   "source": []
  },
  {
   "cell_type": "code",
   "execution_count": null,
   "metadata": {},
   "outputs": [],
   "source": [
    "amenity_osm[['lon', 'lat', 'amenity', 'cuisine']].dropna().cuisine.value_counts()"
   ]
  },
  {
   "cell_type": "code",
   "execution_count": null,
   "metadata": {},
   "outputs": [],
   "source": [
    "amenity_osm.columns.tolist()"
   ]
  },
  {
   "cell_type": "code",
   "execution_count": null,
   "metadata": {},
   "outputs": [],
   "source": []
  },
  {
   "cell_type": "code",
   "execution_count": null,
   "metadata": {},
   "outputs": [],
   "source": []
  },
  {
   "cell_type": "code",
   "execution_count": null,
   "metadata": {},
   "outputs": [],
   "source": [
    "amenity_osm.denomination.value_counts()"
   ]
  },
  {
   "cell_type": "code",
   "execution_count": null,
   "metadata": {},
   "outputs": [],
   "source": [
    "amenity_osm.denomination.value_counts()[:10]"
   ]
  },
  {
   "cell_type": "code",
   "execution_count": null,
   "metadata": {},
   "outputs": [],
   "source": [
    "f, ax = plt.subplots(figsize=(20,20))\n",
    "base = ax.scatter(amenity_osm.lon, amenity_osm.lat, alpha=0.01)\n",
    "ax.scatter(amenity_osm[amenity_osm.denomination == \"baptist\"].lon,\n",
    "           amenity_osm[amenity_osm.denomination == \"baptist\"].lat, c='red')\n",
    "\n",
    "ax.scatter(amenity_osm[amenity_osm.denomination == \"catholic\"].lon,\n",
    "           amenity_osm[amenity_osm.denomination == \"catholic\"].lat, c='orange')\n",
    "\n",
    "ax.scatter(amenity_osm[amenity_osm.denomination == \"lutheran\"].lon,\n",
    "           amenity_osm[amenity_osm.denomination == \"lutheran\"].lat, c='black')\n",
    "\n",
    "ax.scatter(amenity_osm[amenity_osm.denomination == \"jehovahs_witness\"].lon,\n",
    "           amenity_osm[amenity_osm.denomination == \"jehovahs_witness\"].lat, c='green')\n",
    "#top_of_the_rock.plot(c='red', ax=ax);\n",
    "#empire_state_building.plot(c='red', ax=ax);"
   ]
  },
  {
   "cell_type": "code",
   "execution_count": null,
   "metadata": {},
   "outputs": [],
   "source": [
    "f, ax = plt.subplots(figsize=(10,10))\n",
    "base = ax.scatter(amenity_osm.lon, amenity_osm.lat, alpha=0.01)\n",
    "ax.scatter(amenity_osm[amenity_osm.amenity == 'dojo'].lon,\n",
    "           amenity_osm[amenity_osm.amenity == 'dojo'].lat, c='orange')\n",
    "#empire_state_building.plot(c='red', ax=ax);"
   ]
  },
  {
   "cell_type": "code",
   "execution_count": null,
   "metadata": {},
   "outputs": [],
   "source": [
    "amenity_osm.religion.value_counts()"
   ]
  },
  {
   "cell_type": "code",
   "execution_count": null,
   "metadata": {},
   "outputs": [],
   "source": [
    "amenity_osm[['lon',\n",
    "             'lat',\n",
    "             'amenity']].amenity.value_counts(\n",
    ")[amenity_osm[['lon', 'lat', 'amenity']].amenity.value_counts() > 50]"
   ]
  },
  {
   "cell_type": "code",
   "execution_count": null,
   "metadata": {},
   "outputs": [],
   "source": []
  },
  {
   "cell_type": "code",
   "execution_count": null,
   "metadata": {},
   "outputs": [],
   "source": [
    "f, ax = plt.subplots()\n",
    "base = ax.scatter(stations_osm.lon, stations_osm.lat)\n",
    "top_of_the_rock.plot(c='red', ax=ax);\n",
    "empire_state_building.plot(c='red', ax=ax);"
   ]
  },
  {
   "cell_type": "code",
   "execution_count": null,
   "metadata": {},
   "outputs": [],
   "source": [
    "stations_osm.columns"
   ]
  },
  {
   "cell_type": "code",
   "execution_count": null,
   "metadata": {},
   "outputs": [],
   "source": [
    "(40.7481628, -73.9849958)\n",
    "(\n",
    "1\n",
    "(eiffel_tower.geometry[0].coords[0][1], eiffel_tower.geometry[0].coords[0][0])\n",
    "(30.7489907, 76.7853286)"
   ]
  },
  {
   "cell_type": "code",
   "execution_count": null,
   "metadata": {},
   "outputs": [],
   "source": []
  },
  {
   "cell_type": "code",
   "execution_count": null,
   "metadata": {},
   "outputs": [],
   "source": [
    "from math import sin, cos, sqrt, atan2, radians\n",
    "\n",
    "# approximate radius of earth in km\n",
    "R = 6373.0\n",
    "\n",
    "lat1 = radians(40.7481628)\n",
    "lon1 = radians(-73.9849958)\n",
    "lat2 = radians(30.7489907)\n",
    "lon2 = radians(76.7853286)\n",
    "\n",
    "dlon = lon2 - lon1\n",
    "dlat = lat2 - lat1\n",
    "\n",
    "a = sin(dlat / 2)**2 + cos(lat1) * cos(lat2) * sin(dlon / 2)**2\n",
    "c = 2 * atan2(sqrt(a), sqrt(1 - a))\n",
    "\n",
    "distance_ = R * c\n",
    "\n",
    "print(\"Result:\", distance_)\n",
    "print(\"Should be:\", 278.546, \"km\")"
   ]
  },
  {
   "cell_type": "code",
   "execution_count": null,
   "metadata": {},
   "outputs": [],
   "source": [
    "lat1 = 40.7481628\n",
    "lon1 = -73.9849958\n",
    "lat2 = 48.864716\n",
    "lon2 = 2.349014\n",
    "distance.geodesic((lat1, lon1), (lat2, lon2)).km"
   ]
  },
  {
   "cell_type": "code",
   "execution_count": null,
   "metadata": {},
   "outputs": [],
   "source": [
    "(lat1, lon1)"
   ]
  },
  {
   "cell_type": "markdown",
   "metadata": {},
   "source": [
    "## Дорожная сеть\n",
    "\n",
    "\n",
    "### [OSMNX](https://github.com/gboeing/osmnx)"
   ]
  },
  {
   "cell_type": "code",
   "execution_count": null,
   "metadata": {},
   "outputs": [],
   "source": [
    "import networkx as nx\n",
    "import osmnx as ox\n",
    "ox.config(log_console=True, use_cache=True)\n",
    "ox.__version__"
   ]
  },
  {
   "cell_type": "code",
   "execution_count": null,
   "metadata": {},
   "outputs": [],
   "source": [
    "%%time\n",
    "G = ox.graph_from_bbox(lat_max, lat_min, lon_max, lon_min,\n",
    "                        network_type='drive')"
   ]
  },
  {
   "cell_type": "code",
   "execution_count": null,
   "metadata": {},
   "outputs": [],
   "source": [
    "ox.plot_graph(G, fig_height=20, fig_width=20);"
   ]
  },
  {
   "cell_type": "code",
   "execution_count": null,
   "metadata": {},
   "outputs": [],
   "source": [
    "gdf_nodes = ox.graph_to_gdfs(G, edges=False)\n",
    "gdf_nodes.head()"
   ]
  },
  {
   "cell_type": "code",
   "execution_count": null,
   "metadata": {},
   "outputs": [],
   "source": [
    "from sklearn.neighbors import KDTree\n",
    "tree = KDTree(gdf_nodes[['y', 'x']], metric='euclidean')\n",
    "\n",
    "def find_nearest_node(tree, gdf, point):\n",
    "    \n",
    "    closest_idx = tree.query([(point.y, point.x)], k=1, return_distance=False)[0]\n",
    "    nearest_node = gdf.iloc[closest_idx].index.values[0]\n",
    "    \n",
    "    return nearest_node"
   ]
  },
  {
   "cell_type": "code",
   "execution_count": null,
   "metadata": {},
   "outputs": [],
   "source": [
    "def osmnx_route(x1,y1,x2,y2):\n",
    "    node1 = find_nearest_node(tree, gdf_nodes, Point(x1,y1))\n",
    "    node2 = find_nearest_node(tree, gdf_nodes, Point(x2,y2))\n",
    "    \n",
    "    route = nx.shortest_path(G, node1, node2)\n",
    "    route = ox.node_list_to_coordinate_lines(G, route)\n",
    "    return MultiLineString(route)"
   ]
  },
  {
   "cell_type": "code",
   "execution_count": null,
   "metadata": {},
   "outputs": [],
   "source": []
  },
  {
   "cell_type": "code",
   "execution_count": null,
   "metadata": {},
   "outputs": [],
   "source": [
    "rail = ox.footprints.footprints_from_point((empire_state_building['geometry'][0].y,\n",
    "                                     empire_state_building['geometry'][0].x),\n",
    "                                    300,\n",
    "                                    'amenity')\n",
    "rail.dropna(subset=['amenity'])[['amenity']]"
   ]
  },
  {
   "cell_type": "code",
   "execution_count": null,
   "metadata": {},
   "outputs": [],
   "source": [
    "pois.columns.tolist()"
   ]
  },
  {
   "cell_type": "code",
   "execution_count": null,
   "metadata": {},
   "outputs": [],
   "source": [
    "pois = ox.pois.pois_from_point((top_of_the_rock['geometry'][0].y,\n",
    "                                     top_of_the_rock['geometry'][0].x), distance=200)\n",
    "pois[['addr:street', 'addr:housenumber', 'name', 'amenity', 'cuisine']].head(10)"
   ]
  },
  {
   "cell_type": "code",
   "execution_count": null,
   "metadata": {},
   "outputs": [],
   "source": [
    "pois = ox.pois.pois_from_point((empire_state_building['geometry'][0].y,\n",
    "                                     empire_state_building['geometry'][0].x), distance=200)\n",
    "pois[['addr:street', 'addr:housenumber', 'name', 'amenity', 'cuisine']]"
   ]
  },
  {
   "cell_type": "code",
   "execution_count": null,
   "metadata": {},
   "outputs": [],
   "source": []
  },
  {
   "cell_type": "code",
   "execution_count": null,
   "metadata": {},
   "outputs": [],
   "source": []
  },
  {
   "cell_type": "code",
   "execution_count": null,
   "metadata": {},
   "outputs": [],
   "source": [
    "rail = ox.footprints.footprints_from_point((top_of_the_rock['geometry'][0].y,\n",
    "                                     top_of_the_rock['geometry'][0].x),\n",
    "                                    300,\n",
    "                                    'amenity')\n",
    "rail.dropna(subset=['amenity'])[['amenity']]"
   ]
  },
  {
   "cell_type": "code",
   "execution_count": null,
   "metadata": {},
   "outputs": [],
   "source": [
    "rail.columns.tolist()"
   ]
  },
  {
   "cell_type": "code",
   "execution_count": null,
   "metadata": {},
   "outputs": [],
   "source": [
    "closest_node_to_es = find_nearest_node(tree, gdf_nodes, empire_state_building['geometry'][0])\n",
    "print(closest_node_to_rockfeller)"
   ]
  },
  {
   "cell_type": "code",
   "execution_count": null,
   "metadata": {},
   "outputs": [],
   "source": [
    "closest_node_to_rockfeller = find_nearest_node(tree, gdf_nodes, top_of_the_rock['geometry'][0])\n",
    "print(closest_node_to_es)"
   ]
  },
  {
   "cell_type": "code",
   "execution_count": null,
   "metadata": {},
   "outputs": [],
   "source": [
    "route = nx.shortest_path(G, closest_node_to_es, closest_node_to_rockfeller)\n",
    "ox.node_list_to_coordinate_lines(G, route)"
   ]
  },
  {
   "cell_type": "code",
   "execution_count": null,
   "metadata": {},
   "outputs": [],
   "source": [
    "route"
   ]
  },
  {
   "cell_type": "code",
   "execution_count": null,
   "metadata": {},
   "outputs": [],
   "source": [
    "fig, ax = ox.plot_graph_route(G, route,\n",
    "                              show=False, close=False, \n",
    "                              orig_dest_node_color='red',\n",
    "                              route_color='green',\n",
    "                              fig_height=20,\n",
    "                              fig_width=20)\n",
    "\n",
    "plt.show()"
   ]
  },
  {
   "cell_type": "code",
   "execution_count": null,
   "metadata": {},
   "outputs": [],
   "source": [
    "m = ox.plot_route_folium(G, \n",
    "                         route, \n",
    "                         route_color='green', route_opacity=0.7, route_width=3)\n",
    "m"
   ]
  },
  {
   "cell_type": "code",
   "execution_count": null,
   "metadata": {},
   "outputs": [],
   "source": [
    "ox.node_list_to_coordinate_lines(G, route)[:5]"
   ]
  },
  {
   "cell_type": "code",
   "execution_count": 160,
   "metadata": {},
   "outputs": [],
   "source": [
    "df = pd.read_csv('data/train.csv', nrows=10000)"
   ]
  },
  {
   "cell_type": "code",
   "execution_count": 161,
   "metadata": {},
   "outputs": [],
   "source": [
    "df['geometry'] = [Point(lon,lat) for lon,lat in zip(df.pickup_longitude, df.pickup_latitude)]\n",
    "df = gpd.GeoDataFrame(df)"
   ]
  },
  {
   "cell_type": "code",
   "execution_count": 162,
   "metadata": {},
   "outputs": [
    {
     "data": {
      "text/plain": [
       "<matplotlib.axes._subplots.AxesSubplot at 0x11f495a58>"
      ]
     },
     "execution_count": 162,
     "metadata": {},
     "output_type": "execute_result"
    },
    {
     "data": {
      "image/png": "[encoded data removed]",
      "text/plain": [
       "<Figure size 432x288 with 1 Axes>"
      ]
     },
     "metadata": {},
     "output_type": "display_data"
    }
   ],
   "source": [
    "df.plot()"
   ]
  },
  {
   "cell_type": "code",
   "execution_count": 163,
   "metadata": {},
   "outputs": [],
   "source": [
    "df = df[['pickup_longitude',\n",
    "         'pickup_latitude',\n",
    "         'dropoff_longitude','dropoff_latitude','fare_amount','geometry']]\n",
    "df = df[df.pickup_latitude != 0].reset_index(drop=True)\n",
    "df = df[(df.pickup_latitude < 90)&(df.pickup_latitude > -90)].reset_index(drop=True)\n",
    "df = df[(df.dropoff_latitude < 90)&(df.dropoff_latitude > -90)].reset_index(drop=True)\n",
    "df = gpd.GeoDataFrame(df)"
   ]
  },
  {
   "cell_type": "code",
   "execution_count": 164,
   "metadata": {},
   "outputs": [
    {
     "data": {
      "text/plain": [
       "<matplotlib.axes._subplots.AxesSubplot at 0x11f4c2978>"
      ]
     },
     "execution_count": 164,
     "metadata": {},
     "output_type": "execute_result"
    },
    {
     "data": {
      "image/png": "[encoded data removed]",
      "text/plain": [
       "<Figure size 432x288 with 1 Axes>"
      ]
     },
     "metadata": {},
     "output_type": "display_data"
    }
   ],
   "source": [
    "df.plot()"
   ]
  },
  {
   "cell_type": "code",
   "execution_count": 165,
   "metadata": {},
   "outputs": [
    {
     "data": {
      "text/html": [
       "<div>\n",
       "<style scoped>\n",
       "    .dataframe tbody tr th:only-of-type {\n",
       "        vertical-align: middle;\n",
       "    }\n",
       "\n",
       "    .dataframe tbody tr th {\n",
       "        vertical-align: top;\n",
       "    }\n",
       "\n",
       "    .dataframe thead th {\n",
       "        text-align: right;\n",
       "    }\n",
       "</style>\n",
       "<table border=\"1\" class=\"dataframe\">\n",
       "  <thead>\n",
       "    <tr style=\"text-align: right;\">\n",
       "      <th></th>\n",
       "      <th>pickup_longitude</th>\n",
       "      <th>pickup_latitude</th>\n",
       "      <th>dropoff_longitude</th>\n",
       "      <th>dropoff_latitude</th>\n",
       "      <th>fare_amount</th>\n",
       "    </tr>\n",
       "  </thead>\n",
       "  <tbody>\n",
       "    <tr>\n",
       "      <th>count</th>\n",
       "      <td>9807.000000</td>\n",
       "      <td>9807.000000</td>\n",
       "      <td>9807.000000</td>\n",
       "      <td>9807.000000</td>\n",
       "      <td>9807.000000</td>\n",
       "    </tr>\n",
       "    <tr>\n",
       "      <th>mean</th>\n",
       "      <td>-73.885251</td>\n",
       "      <td>40.665178</td>\n",
       "      <td>-73.847567</td>\n",
       "      <td>40.649281</td>\n",
       "      <td>11.230443</td>\n",
       "    </tr>\n",
       "    <tr>\n",
       "      <th>std</th>\n",
       "      <td>3.153901</td>\n",
       "      <td>3.092117</td>\n",
       "      <td>3.551943</td>\n",
       "      <td>3.197891</td>\n",
       "      <td>9.513349</td>\n",
       "    </tr>\n",
       "    <tr>\n",
       "      <th>min</th>\n",
       "      <td>-74.438233</td>\n",
       "      <td>-74.006893</td>\n",
       "      <td>-74.429332</td>\n",
       "      <td>-73.994392</td>\n",
       "      <td>-2.900000</td>\n",
       "    </tr>\n",
       "    <tr>\n",
       "      <th>25%</th>\n",
       "      <td>-73.992244</td>\n",
       "      <td>40.736064</td>\n",
       "      <td>-73.991275</td>\n",
       "      <td>40.736624</td>\n",
       "      <td>6.000000</td>\n",
       "    </tr>\n",
       "    <tr>\n",
       "      <th>50%</th>\n",
       "      <td>-73.982085</td>\n",
       "      <td>40.753389</td>\n",
       "      <td>-73.980477</td>\n",
       "      <td>40.754462</td>\n",
       "      <td>8.500000</td>\n",
       "    </tr>\n",
       "    <tr>\n",
       "      <th>75%</th>\n",
       "      <td>-73.968223</td>\n",
       "      <td>40.768039</td>\n",
       "      <td>-73.965321</td>\n",
       "      <td>40.768558</td>\n",
       "      <td>12.500000</td>\n",
       "    </tr>\n",
       "    <tr>\n",
       "      <th>max</th>\n",
       "      <td>40.766125</td>\n",
       "      <td>41.366138</td>\n",
       "      <td>40.802437</td>\n",
       "      <td>41.366138</td>\n",
       "      <td>180.000000</td>\n",
       "    </tr>\n",
       "  </tbody>\n",
       "</table>\n",
       "</div>"
      ],
      "text/plain": [
       "       pickup_longitude  pickup_latitude  dropoff_longitude  dropoff_latitude  \\\n",
       "count       9807.000000      9807.000000        9807.000000       9807.000000   \n",
       "mean         -73.885251        40.665178         -73.847567         40.649281   \n",
       "std            3.153901         3.092117           3.551943          3.197891   \n",
       "min          -74.438233       -74.006893         -74.429332        -73.994392   \n",
       "25%          -73.992244        40.736064         -73.991275         40.736624   \n",
       "50%          -73.982085        40.753389         -73.980477         40.754462   \n",
       "75%          -73.968223        40.768039         -73.965321         40.768558   \n",
       "max           40.766125        41.366138          40.802437         41.366138   \n",
       "\n",
       "       fare_amount  \n",
       "count  9807.000000  \n",
       "mean     11.230443  \n",
       "std       9.513349  \n",
       "min      -2.900000  \n",
       "25%       6.000000  \n",
       "50%       8.500000  \n",
       "75%      12.500000  \n",
       "max     180.000000  "
      ]
     },
     "execution_count": 165,
     "metadata": {},
     "output_type": "execute_result"
    }
   ],
   "source": [
    "df.describe()"
   ]
  },
  {
   "cell_type": "code",
   "execution_count": 136,
   "metadata": {},
   "outputs": [
    {
     "name": "stderr",
     "output_type": "stream",
     "text": [
      "/usr/local/lib/python3.6/site-packages/sklearn/ensemble/weight_boosting.py:29: DeprecationWarning: numpy.core.umath_tests is an internal NumPy module and should not be imported. It will be removed in a future NumPy release.\n",
      "  from numpy.core.umath_tests import inner1d\n"
     ]
    }
   ],
   "source": [
    "from sklearn.model_selection import cross_val_score\n",
    "from sklearn.linear_model import LinearRegression\n",
    "from sklearn.ensemble import RandomForestRegressor"
   ]
  },
  {
   "cell_type": "code",
   "execution_count": 137,
   "metadata": {},
   "outputs": [],
   "source": []
  },
  {
   "cell_type": "code",
   "execution_count": null,
   "metadata": {},
   "outputs": [],
   "source": [
    "routes = []\n",
    "for i, row in tqdm(X.iterrows(), total=X.shape[0]):\n",
    "    try:\n",
    "        routes.append(osmnx_route(row.pickup_longitude, row.pickup_latitude,\n",
    "                       row.dropoff_longitude, row.dropoff_latitude))\n",
    "    except nx.NetworkXNoPath:\n",
    "        routes.append(None)\n",
    "        \n",
    "df['geometry'] = routes\n",
    "df = gpd.GeoDataFrame(df, crs={'init': 'epsg:4326'})\n",
    "\n",
    "df = df.dropna()\n",
    "df = df.to_crs(epsg=32618)\n",
    "\n",
    "df['route_len'] = df.geometry.length"
   ]
  },
  {
   "cell_type": "code",
   "execution_count": null,
   "metadata": {},
   "outputs": [],
   "source": [
    "X = df.drop('fare_amount', axis=1)\n",
    "y = df['fare_amount']"
   ]
  },
  {
   "cell_type": "code",
   "execution_count": null,
   "metadata": {},
   "outputs": [],
   "source": [
    "X['gc_distance'] = [distance.great_circle((x1,y1),(x2,y2)).m for x1,y1,x2,y2 in zip(X.pickup_latitude,\n",
    "                                                                           X.pickup_longitude,\n",
    "                                                                          X.dropoff_latitude,\n",
    "                                                                          X.pickup_longitude)]"
   ]
  },
  {
   "cell_type": "code",
   "execution_count": null,
   "metadata": {},
   "outputs": [],
   "source": [
    "cross_val_score(RandomForestRegressor().fit(X[['gc_distance']],y),\n",
    "                X[['gc_distance']], y, cv=5, scoring='neg_mean_absolute_error')"
   ]
  },
  {
   "cell_type": "code",
   "execution_count": null,
   "metadata": {},
   "outputs": [],
   "source": [
    "np.mean(cross_val_score(RandomForestRegressor().fit(X[['gc_distance']],y),\n",
    "                        X[['gc_distance']], y, cv=5, scoring='neg_mean_absolute_error'))"
   ]
  },
  {
   "cell_type": "code",
   "execution_count": null,
   "metadata": {},
   "outputs": [],
   "source": [
    "X['geo_distance'] = [distance.geodesic((x1,y1),(x2,y2)).m for x1,y1,x2,y2 in zip(X.pickup_latitude,\n",
    "                                                                           X.pickup_longitude,\n",
    "                                                                          X.dropoff_latitude,\n",
    "                                                                          X.pickup_longitude)]"
   ]
  },
  {
   "cell_type": "code",
   "execution_count": null,
   "metadata": {},
   "outputs": [],
   "source": [
    "cross_val_score(RandomForestRegressor().fit(X[['geo_distance']],y),\n",
    "                X[['geo_distance']], y, cv=5, scoring='neg_mean_absolute_error')"
   ]
  },
  {
   "cell_type": "code",
   "execution_count": null,
   "metadata": {},
   "outputs": [],
   "source": [
    "np.mean(cross_val_score(RandomForestRegressor().fit(X[['geo_distance']],y),\n",
    "                        X[['geo_distance']], y, cv=5, scoring='neg_mean_absolute_error'))"
   ]
  },
  {
   "cell_type": "code",
   "execution_count": null,
   "metadata": {},
   "outputs": [],
   "source": [
    "cross_val_score(RandomForestRegressor().fit(X[['route_len']],y),\n",
    "                        X[['route_len']], y, cv=5, scoring='neg_mean_absolute_error')"
   ]
  },
  {
   "cell_type": "code",
   "execution_count": null,
   "metadata": {},
   "outputs": [],
   "source": [
    "np.mean(cross_val_score(RandomForestRegressor().fit(X[['route_len']],y),\n",
    "                        X[['route_len']], y, cv=5, scoring='neg_mean_absolute_error'))"
   ]
  },
  {
   "cell_type": "code",
   "execution_count": null,
   "metadata": {},
   "outputs": [],
   "source": [
    "df"
   ]
  },
  {
   "cell_type": "code",
   "execution_count": null,
   "metadata": {},
   "outputs": [],
   "source": []
  }
 ],
 "metadata": {
  "kernelspec": {
   "display_name": "Python 3",
   "language": "python",
   "name": "python3"
  },
  "language_info": {
   "codemirror_mode": {
    "name": "ipython",
    "version": 3
   },
   "file_extension": ".py",
   "mimetype": "text/x-python",
   "name": "python",
   "nbconvert_exporter": "python",
   "pygments_lexer": "ipython3",
   "version": "3.6.5"
  }
 },
 "nbformat": 4,
 "nbformat_minor": 2
}
